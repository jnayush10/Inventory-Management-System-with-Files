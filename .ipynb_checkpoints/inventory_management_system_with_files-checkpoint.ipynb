{
 "cells": [
  {
   "cell_type": "markdown",
   "id": "9627d01e-47de-4ce8-8fed-b2304e69fcfc",
   "metadata": {},
   "source": [
    "## Product Details\n",
    "1. Product ID\n",
    "2. Name of Product\n",
    "3. Price of Product\n",
    "4. Quantity"
   ]
  },
  {
   "cell_type": "code",
   "execution_count": 1,
   "id": "09e93a6f-36b7-45fd-b272-a46be5b530f4",
   "metadata": {},
   "outputs": [],
   "source": [
    "# open and read inventory.txt file\n",
    "fd = open('inventory.txt', 'r')\n",
    "products = fd.read().split('\\n')\n",
    "fd.close()"
   ]
  },
  {
   "cell_type": "code",
   "execution_count": 2,
   "id": "ae7c7e2f-d853-44f6-a748-2d5ee310f448",
   "metadata": {},
   "outputs": [
    {
     "name": "stdout",
     "output_type": "stream",
     "text": [
      "1,5 Star,5,0\n",
      "2,Milky Bar,5,44\n",
      "3,Cake,300,5\n"
     ]
    }
   ],
   "source": [
    "# displaying available products in the inventory\n",
    "for product in products:\n",
    "    if product != '':\n",
    "        print(product)"
   ]
  },
  {
   "cell_type": "code",
   "execution_count": null,
   "id": "495ea975-f7ee-42ca-8478-40627f917190",
   "metadata": {},
   "outputs": [],
   "source": [
    "ui_prod_id = input('Enter Product ID: ')\n",
    "ui_prod_qn = input('Enter Product Quantity: ')\n",
    "\n",
    "updated_products_list = []\n",
    "\n",
    "# iterating through each product in the inventory\n",
    "for product in products:\n",
    "    product_details = product.split(',')\n",
    "    # check if the product ID that we have requested is there in inventory or not\n",
    "    if product_details[0] == ui_prod_id:\n",
    "        # check if the quantity requested is avaialble or not in inventory\n",
    "        if int(product_details[3]) >= int(ui_prod_qn):\n",
    "            print('-'*50)\n",
    "            print(f\"Product Name     : {product_details[1]}\")\n",
    "            print(f\"Price            : {product_details[2]}\")\n",
    "            print(f\"Quantity         : {ui_prod_qn}\")\n",
    "            print('-'*50)\n",
    "            print(f\"Billing Amount   : {int(ui_prod_qn) * int(product_details[2])}\")\n",
    "            print('-'*50)\n",
    "            product_details[3] = str(int(product_details[3]) - int(ui_prod_qn))\n",
    "        # fallback    \n",
    "        else:\n",
    "            print(\"Sorry, we're not having enough quantity!!\")\n",
    "            print(f\"We are having only {product_details[3]} units\")\n",
    "            print('Would you like to purchase it ?')\n",
    "            \n",
    "            ch = input('Press Y/N')\n",
    "\n",
    "            if ch == 'Y' or ch == 'y':\n",
    "                print('-'*50)\n",
    "                print(f\"Product Name     : {product_details[1]}\")\n",
    "                print(f\"Price            : {product_details[2]}\")\n",
    "                print(f\"Quantity         : {product_details[3]}\")\n",
    "                print('-'*50)\n",
    "                print(f\"Billing Amount   : {int(product_details[3]) * int(product_details[2])}\")\n",
    "                print('-'*50)\n",
    "                product_details[3] = str(int(product_details[3]) - int(product_details[3]))\n",
    "             # not purchased anything   \n",
    "            else:\n",
    "                print('Thanks')\n",
    "                \n",
    "    updated_products_list.append(product_details)"
   ]
  },
  {
   "cell_type": "code",
   "execution_count": null,
   "id": "0b8aaecf-a4e9-412f-b739-2ef3b63e0c0b",
   "metadata": {},
   "outputs": [],
   "source": [
    "# update the inventory\n",
    "fd = open('inventory.txt', 'w')\n",
    "for updated_product in updated_products_list:\n",
    "    fd.write(','.join(updated_product) + '\\n')\n",
    "fd.close()\n",
    "\n",
    "print('Inventory updated!!')"
   ]
  },
  {
   "cell_type": "code",
   "execution_count": null,
   "id": "01ce7201-aedc-4fa5-b5ba-38d1887c95ff",
   "metadata": {},
   "outputs": [],
   "source": []
  }
 ],
 "metadata": {
  "kernelspec": {
   "display_name": "Python 3 (ipykernel)",
   "language": "python",
   "name": "python3"
  },
  "language_info": {
   "codemirror_mode": {
    "name": "ipython",
    "version": 3
   },
   "file_extension": ".py",
   "mimetype": "text/x-python",
   "name": "python",
   "nbconvert_exporter": "python",
   "pygments_lexer": "ipython3",
   "version": "3.11.7"
  }
 },
 "nbformat": 4,
 "nbformat_minor": 5
}
